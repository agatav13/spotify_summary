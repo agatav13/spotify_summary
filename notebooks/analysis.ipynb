{
 "cells": [
  {
   "cell_type": "code",
   "execution_count": 3,
   "metadata": {},
   "outputs": [],
   "source": [
    "import pandas as pd\n",
    "from datetime import date\n",
    "\n",
    "path = \"../data/processed_data.csv\"\n",
    "data = pd.read_csv(path)\n",
    "data[\"date\"] = pd.to_datetime(data[\"date\"])  # Convert column to datetime"
   ]
  },
  {
   "cell_type": "markdown",
   "metadata": {},
   "source": [
    "Show 10 top most played aritsts overall and for the current month and year."
   ]
  },
  {
   "cell_type": "code",
   "execution_count": 4,
   "metadata": {},
   "outputs": [
    {
     "data": {
      "application/vnd.microsoft.datawrangler.viewer.v0+json": {
       "columns": [
        {
         "name": "index",
         "rawType": "int64",
         "type": "integer"
        },
        {
         "name": "('All data', 'artist')",
         "rawType": "object",
         "type": "string"
        },
        {
         "name": "('All data', 'play_count')",
         "rawType": "int64",
         "type": "integer"
        },
        {
         "name": "('Data for 03-2025', 'artist')",
         "rawType": "object",
         "type": "string"
        },
        {
         "name": "('Data for 03-2025', 'play_count')",
         "rawType": "int64",
         "type": "integer"
        }
       ],
       "conversionMethod": "pd.DataFrame",
       "ref": "a66ef1f8-b8c7-43ee-91de-288c31ad1f5f",
       "rows": [
        [
         "1",
         "Taylor Swift",
         "383",
         "Taylor Swift",
         "114"
        ],
        [
         "2",
         "Sabrina Carpenter",
         "114",
         "Sabrina Carpenter",
         "37"
        ],
        [
         "3",
         "Dawid Podsiadło",
         "74",
         "Dawid Podsiadło",
         "36"
        ],
        [
         "4",
         "Taco Hemingway",
         "50",
         "Lana Del Rey",
         "26"
        ],
        [
         "5",
         "SZA",
         "47",
         "Chappell Roan",
         "20"
        ],
        [
         "6",
         "Paramore",
         "44",
         "Olivia Rodrigo",
         "14"
        ],
        [
         "7",
         "Rina Sawayama",
         "42",
         "Hailee Steinfeld",
         "12"
        ],
        [
         "8",
         "Chappell Roan",
         "39",
         "Paramore",
         "12"
        ],
        [
         "9",
         "Drum & Lace",
         "34",
         "Lorde",
         "9"
        ],
        [
         "10",
         "Lana Del Rey",
         "34",
         "MARINA",
         "8"
        ]
       ],
       "shape": {
        "columns": 4,
        "rows": 10
       }
      },
      "text/html": [
       "<div>\n",
       "<style scoped>\n",
       "    .dataframe tbody tr th:only-of-type {\n",
       "        vertical-align: middle;\n",
       "    }\n",
       "\n",
       "    .dataframe tbody tr th {\n",
       "        vertical-align: top;\n",
       "    }\n",
       "\n",
       "    .dataframe thead tr th {\n",
       "        text-align: left;\n",
       "    }\n",
       "</style>\n",
       "<table border=\"1\" class=\"dataframe\">\n",
       "  <thead>\n",
       "    <tr>\n",
       "      <th></th>\n",
       "      <th colspan=\"2\" halign=\"left\">All data</th>\n",
       "      <th colspan=\"2\" halign=\"left\">Data for 03-2025</th>\n",
       "    </tr>\n",
       "    <tr>\n",
       "      <th></th>\n",
       "      <th>artist</th>\n",
       "      <th>play_count</th>\n",
       "      <th>artist</th>\n",
       "      <th>play_count</th>\n",
       "    </tr>\n",
       "  </thead>\n",
       "  <tbody>\n",
       "    <tr>\n",
       "      <th>1</th>\n",
       "      <td>Taylor Swift</td>\n",
       "      <td>383</td>\n",
       "      <td>Taylor Swift</td>\n",
       "      <td>114</td>\n",
       "    </tr>\n",
       "    <tr>\n",
       "      <th>2</th>\n",
       "      <td>Sabrina Carpenter</td>\n",
       "      <td>114</td>\n",
       "      <td>Sabrina Carpenter</td>\n",
       "      <td>37</td>\n",
       "    </tr>\n",
       "    <tr>\n",
       "      <th>3</th>\n",
       "      <td>Dawid Podsiadło</td>\n",
       "      <td>74</td>\n",
       "      <td>Dawid Podsiadło</td>\n",
       "      <td>36</td>\n",
       "    </tr>\n",
       "    <tr>\n",
       "      <th>4</th>\n",
       "      <td>Taco Hemingway</td>\n",
       "      <td>50</td>\n",
       "      <td>Lana Del Rey</td>\n",
       "      <td>26</td>\n",
       "    </tr>\n",
       "    <tr>\n",
       "      <th>5</th>\n",
       "      <td>SZA</td>\n",
       "      <td>47</td>\n",
       "      <td>Chappell Roan</td>\n",
       "      <td>20</td>\n",
       "    </tr>\n",
       "    <tr>\n",
       "      <th>6</th>\n",
       "      <td>Paramore</td>\n",
       "      <td>44</td>\n",
       "      <td>Olivia Rodrigo</td>\n",
       "      <td>14</td>\n",
       "    </tr>\n",
       "    <tr>\n",
       "      <th>7</th>\n",
       "      <td>Rina Sawayama</td>\n",
       "      <td>42</td>\n",
       "      <td>Hailee Steinfeld</td>\n",
       "      <td>12</td>\n",
       "    </tr>\n",
       "    <tr>\n",
       "      <th>8</th>\n",
       "      <td>Chappell Roan</td>\n",
       "      <td>39</td>\n",
       "      <td>Paramore</td>\n",
       "      <td>12</td>\n",
       "    </tr>\n",
       "    <tr>\n",
       "      <th>9</th>\n",
       "      <td>Drum &amp; Lace</td>\n",
       "      <td>34</td>\n",
       "      <td>Lorde</td>\n",
       "      <td>9</td>\n",
       "    </tr>\n",
       "    <tr>\n",
       "      <th>10</th>\n",
       "      <td>Lana Del Rey</td>\n",
       "      <td>34</td>\n",
       "      <td>MARINA</td>\n",
       "      <td>8</td>\n",
       "    </tr>\n",
       "  </tbody>\n",
       "</table>\n",
       "</div>"
      ],
      "text/plain": [
       "             All data              Data for 03-2025           \n",
       "               artist play_count             artist play_count\n",
       "1        Taylor Swift        383       Taylor Swift        114\n",
       "2   Sabrina Carpenter        114  Sabrina Carpenter         37\n",
       "3     Dawid Podsiadło         74    Dawid Podsiadło         36\n",
       "4      Taco Hemingway         50       Lana Del Rey         26\n",
       "5                 SZA         47      Chappell Roan         20\n",
       "6            Paramore         44     Olivia Rodrigo         14\n",
       "7       Rina Sawayama         42   Hailee Steinfeld         12\n",
       "8       Chappell Roan         39           Paramore         12\n",
       "9         Drum & Lace         34              Lorde          9\n",
       "10       Lana Del Rey         34             MARINA          8"
      ]
     },
     "execution_count": 4,
     "metadata": {},
     "output_type": "execute_result"
    }
   ],
   "source": [
    "top_num = 10  # How many top artists to diplay\n",
    "month = date.today().month  # Displays the data for this month (1-12)\n",
    "year = date.today().year  # Displays the data for this year\n",
    "label_month = f\"Data for {month:02}-{year}\"\n",
    "\n",
    "\n",
    "def get_top_artists(df, month=None, year=None, label=\"\"):\n",
    "    # If month and year are provided, filter the data\n",
    "    if month is not None and year is not None:\n",
    "        df = df[(df[\"date\"].dt.month == month) & (df[\"date\"].dt.year == year)]\n",
    "\n",
    "    # Count how many times the artists are appearing\n",
    "    df = df.value_counts(subset=[\"artist\"], ascending=False).reset_index(name=\"play_count\")\n",
    "    df.index = df.index + 1  # Change the indexing to start at 1\n",
    "\n",
    "    df.columns = pd.MultiIndex.from_product([[label], df.columns])\n",
    "\n",
    "    return df\n",
    "\n",
    "\n",
    "top_artists = get_top_artists(data, label=\"All data\")\n",
    "top_artists_month = get_top_artists(data, month, year, label=label_month)\n",
    "\n",
    "merged = pd.concat([top_artists, top_artists_month], axis=1).fillna(0)\n",
    "merged[(label_month, \"play_count\")] = merged[(label_month, \"play_count\")].astype(int)  # Convert to int\n",
    "merged.head(top_num)  # Display top played artists"
   ]
  },
  {
   "cell_type": "markdown",
   "metadata": {},
   "source": [
    "Show 10 top most played songs overall and for the current month and year."
   ]
  },
  {
   "cell_type": "code",
   "execution_count": 5,
   "metadata": {},
   "outputs": [
    {
     "data": {
      "application/vnd.microsoft.datawrangler.viewer.v0+json": {
       "columns": [
        {
         "name": "index",
         "rawType": "int64",
         "type": "integer"
        },
        {
         "name": "('All data', 'title')",
         "rawType": "object",
         "type": "string"
        },
        {
         "name": "('All data', 'artist')",
         "rawType": "object",
         "type": "string"
        },
        {
         "name": "('All data', 'play_count')",
         "rawType": "int64",
         "type": "integer"
        },
        {
         "name": "('Data for 03-2025', 'title')",
         "rawType": "object",
         "type": "string"
        },
        {
         "name": "('Data for 03-2025', 'artist')",
         "rawType": "object",
         "type": "string"
        },
        {
         "name": "('Data for 03-2025', 'play_count')",
         "rawType": "int64",
         "type": "integer"
        }
       ],
       "conversionMethod": "pd.DataFrame",
       "ref": "ab8ba773-bd20-4b76-9a51-9e293b2b1d05",
       "rows": [
        [
         "1",
         "Juno",
         "Sabrina Carpenter",
         "10",
         "Busy Woman",
         "Sabrina Carpenter",
         "4"
        ],
        [
         "2",
         "15 Minutes",
         "Sabrina Carpenter",
         "9",
         "No",
         "Dawid Podsiadło",
         "4"
        ],
        [
         "3",
         "The Smallest Man Who Ever Lived",
         "Taylor Swift",
         "8",
         "My Boy Only Breaks His Favorite Toys",
         "Taylor Swift",
         "4"
        ],
        [
         "4",
         "Now That We Don't Talk (Taylor's Version) (From The Vault)",
         "Taylor Swift",
         "8",
         "Fresh Out The Slammer",
         "Taylor Swift",
         "4"
        ],
        [
         "5",
         "My Kink Is Karma",
         "Chappell Roan",
         "8",
         "The Smallest Man Who Ever Lived",
         "Taylor Swift",
         "4"
        ],
        [
         "6",
         "Don’t Smile",
         "Sabrina Carpenter",
         "7",
         "Suburban Legends (Taylor's Version) (From The Vault)",
         "Taylor Swift",
         "3"
        ],
        [
         "7",
         "Fresh Out The Slammer",
         "Taylor Swift",
         "7",
         "15 Minutes",
         "Sabrina Carpenter",
         "3"
        ],
        [
         "8",
         "Busy Woman",
         "Sabrina Carpenter",
         "7",
         "California",
         "Chappell Roan",
         "3"
        ],
        [
         "9",
         "Suburban Legends (Taylor's Version) (From The Vault)",
         "Taylor Swift",
         "7",
         "Can’t Catch Me Now - from The Hunger Games: The Ballad of Songbirds & Snakes",
         "Olivia Rodrigo",
         "3"
        ],
        [
         "10",
         "Who’s Afraid of Little Old Me?",
         "Taylor Swift",
         "6",
         "Hunger",
         "Florence + The Machine",
         "3"
        ]
       ],
       "shape": {
        "columns": 6,
        "rows": 10
       }
      },
      "text/html": [
       "<div>\n",
       "<style scoped>\n",
       "    .dataframe tbody tr th:only-of-type {\n",
       "        vertical-align: middle;\n",
       "    }\n",
       "\n",
       "    .dataframe tbody tr th {\n",
       "        vertical-align: top;\n",
       "    }\n",
       "\n",
       "    .dataframe thead tr th {\n",
       "        text-align: left;\n",
       "    }\n",
       "</style>\n",
       "<table border=\"1\" class=\"dataframe\">\n",
       "  <thead>\n",
       "    <tr>\n",
       "      <th></th>\n",
       "      <th colspan=\"3\" halign=\"left\">All data</th>\n",
       "      <th colspan=\"3\" halign=\"left\">Data for 03-2025</th>\n",
       "    </tr>\n",
       "    <tr>\n",
       "      <th></th>\n",
       "      <th>title</th>\n",
       "      <th>artist</th>\n",
       "      <th>play_count</th>\n",
       "      <th>title</th>\n",
       "      <th>artist</th>\n",
       "      <th>play_count</th>\n",
       "    </tr>\n",
       "  </thead>\n",
       "  <tbody>\n",
       "    <tr>\n",
       "      <th>1</th>\n",
       "      <td>Juno</td>\n",
       "      <td>Sabrina Carpenter</td>\n",
       "      <td>10</td>\n",
       "      <td>Busy Woman</td>\n",
       "      <td>Sabrina Carpenter</td>\n",
       "      <td>4</td>\n",
       "    </tr>\n",
       "    <tr>\n",
       "      <th>2</th>\n",
       "      <td>15 Minutes</td>\n",
       "      <td>Sabrina Carpenter</td>\n",
       "      <td>9</td>\n",
       "      <td>No</td>\n",
       "      <td>Dawid Podsiadło</td>\n",
       "      <td>4</td>\n",
       "    </tr>\n",
       "    <tr>\n",
       "      <th>3</th>\n",
       "      <td>The Smallest Man Who Ever Lived</td>\n",
       "      <td>Taylor Swift</td>\n",
       "      <td>8</td>\n",
       "      <td>My Boy Only Breaks His Favorite Toys</td>\n",
       "      <td>Taylor Swift</td>\n",
       "      <td>4</td>\n",
       "    </tr>\n",
       "    <tr>\n",
       "      <th>4</th>\n",
       "      <td>Now That We Don't Talk (Taylor's Version) (Fro...</td>\n",
       "      <td>Taylor Swift</td>\n",
       "      <td>8</td>\n",
       "      <td>Fresh Out The Slammer</td>\n",
       "      <td>Taylor Swift</td>\n",
       "      <td>4</td>\n",
       "    </tr>\n",
       "    <tr>\n",
       "      <th>5</th>\n",
       "      <td>My Kink Is Karma</td>\n",
       "      <td>Chappell Roan</td>\n",
       "      <td>8</td>\n",
       "      <td>The Smallest Man Who Ever Lived</td>\n",
       "      <td>Taylor Swift</td>\n",
       "      <td>4</td>\n",
       "    </tr>\n",
       "    <tr>\n",
       "      <th>6</th>\n",
       "      <td>Don’t Smile</td>\n",
       "      <td>Sabrina Carpenter</td>\n",
       "      <td>7</td>\n",
       "      <td>Suburban Legends (Taylor's Version) (From The ...</td>\n",
       "      <td>Taylor Swift</td>\n",
       "      <td>3</td>\n",
       "    </tr>\n",
       "    <tr>\n",
       "      <th>7</th>\n",
       "      <td>Fresh Out The Slammer</td>\n",
       "      <td>Taylor Swift</td>\n",
       "      <td>7</td>\n",
       "      <td>15 Minutes</td>\n",
       "      <td>Sabrina Carpenter</td>\n",
       "      <td>3</td>\n",
       "    </tr>\n",
       "    <tr>\n",
       "      <th>8</th>\n",
       "      <td>Busy Woman</td>\n",
       "      <td>Sabrina Carpenter</td>\n",
       "      <td>7</td>\n",
       "      <td>California</td>\n",
       "      <td>Chappell Roan</td>\n",
       "      <td>3</td>\n",
       "    </tr>\n",
       "    <tr>\n",
       "      <th>9</th>\n",
       "      <td>Suburban Legends (Taylor's Version) (From The ...</td>\n",
       "      <td>Taylor Swift</td>\n",
       "      <td>7</td>\n",
       "      <td>Can’t Catch Me Now - from The Hunger Games: Th...</td>\n",
       "      <td>Olivia Rodrigo</td>\n",
       "      <td>3</td>\n",
       "    </tr>\n",
       "    <tr>\n",
       "      <th>10</th>\n",
       "      <td>Who’s Afraid of Little Old Me?</td>\n",
       "      <td>Taylor Swift</td>\n",
       "      <td>6</td>\n",
       "      <td>Hunger</td>\n",
       "      <td>Florence + The Machine</td>\n",
       "      <td>3</td>\n",
       "    </tr>\n",
       "  </tbody>\n",
       "</table>\n",
       "</div>"
      ],
      "text/plain": [
       "                                             All data                     \\\n",
       "                                                title             artist   \n",
       "1                                                Juno  Sabrina Carpenter   \n",
       "2                                          15 Minutes  Sabrina Carpenter   \n",
       "3                     The Smallest Man Who Ever Lived       Taylor Swift   \n",
       "4   Now That We Don't Talk (Taylor's Version) (Fro...       Taylor Swift   \n",
       "5                                    My Kink Is Karma      Chappell Roan   \n",
       "6                                         Don’t Smile  Sabrina Carpenter   \n",
       "7                               Fresh Out The Slammer       Taylor Swift   \n",
       "8                                          Busy Woman  Sabrina Carpenter   \n",
       "9   Suburban Legends (Taylor's Version) (From The ...       Taylor Swift   \n",
       "10                     Who’s Afraid of Little Old Me?       Taylor Swift   \n",
       "\n",
       "                                                Data for 03-2025  \\\n",
       "   play_count                                              title   \n",
       "1          10                                         Busy Woman   \n",
       "2           9                                                 No   \n",
       "3           8               My Boy Only Breaks His Favorite Toys   \n",
       "4           8                              Fresh Out The Slammer   \n",
       "5           8                    The Smallest Man Who Ever Lived   \n",
       "6           7  Suburban Legends (Taylor's Version) (From The ...   \n",
       "7           7                                         15 Minutes   \n",
       "8           7                                         California   \n",
       "9           7  Can’t Catch Me Now - from The Hunger Games: Th...   \n",
       "10          6                                             Hunger   \n",
       "\n",
       "                                       \n",
       "                    artist play_count  \n",
       "1        Sabrina Carpenter          4  \n",
       "2          Dawid Podsiadło          4  \n",
       "3             Taylor Swift          4  \n",
       "4             Taylor Swift          4  \n",
       "5             Taylor Swift          4  \n",
       "6             Taylor Swift          3  \n",
       "7        Sabrina Carpenter          3  \n",
       "8            Chappell Roan          3  \n",
       "9           Olivia Rodrigo          3  \n",
       "10  Florence + The Machine          3  "
      ]
     },
     "execution_count": 5,
     "metadata": {},
     "output_type": "execute_result"
    }
   ],
   "source": [
    "top_num = 10  # How many top songs to diplay\n",
    "month = date.today().month  # Displays the data for this month (1-12)\n",
    "year = date.today().year  # Displays the data for this year\n",
    "label_month = f\"Data for {month:02}-{year}\"\n",
    "\n",
    "\n",
    "def get_top_songs(df, month=None, year=None, label=\"\"):\n",
    "    # If month and year are provided, filter the data\n",
    "    if month is not None and year is not None:\n",
    "        df = df[(df[\"date\"].dt.month == month) & (df[\"date\"].dt.year == year)]\n",
    "\n",
    "    # Count how many times the artists are appearing\n",
    "    df = df.value_counts(subset=[\"title\", \"artist\"], ascending=False).reset_index(name=\"play_count\")\n",
    "    df.index = df.index + 1  # Change the indexing to start at 1\n",
    "\n",
    "    df.columns = pd.MultiIndex.from_product([[label], df.columns])\n",
    "\n",
    "    return df\n",
    "\n",
    "\n",
    "top_songs = get_top_songs(data, label=\"All data\")\n",
    "top_songs_month = get_top_songs(data, month, year, label=label_month)\n",
    "\n",
    "merged = pd.concat([top_songs, top_songs_month], axis=1).fillna(0)\n",
    "merged[(label_month, \"play_count\")] = merged[(label_month, \"play_count\")].astype(int)  # Convert to int\n",
    "merged.head(top_num)  # Display top played songs"
   ]
  }
 ],
 "metadata": {
  "kernelspec": {
   "display_name": "Python 3",
   "language": "python",
   "name": "python3"
  },
  "language_info": {
   "codemirror_mode": {
    "name": "ipython",
    "version": 3
   },
   "file_extension": ".py",
   "mimetype": "text/x-python",
   "name": "python",
   "nbconvert_exporter": "python",
   "pygments_lexer": "ipython3",
   "version": "3.10.12"
  }
 },
 "nbformat": 4,
 "nbformat_minor": 2
}
