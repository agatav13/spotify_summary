{
 "cells": [
  {
   "cell_type": "code",
   "execution_count": null,
   "metadata": {},
   "outputs": [],
   "source": [
    "import pandas as pd\n",
    "from datetime import date\n",
    "\n",
    "path = \"../data/processed_data.csv\"\n",
    "data = pd.read_csv(path)\n",
    "data[\"date\"] = pd.to_datetime(data[\"date\"])  # Convert column to datetime"
   ]
  },
  {
   "cell_type": "markdown",
   "metadata": {},
   "source": [
    "#### 10 top most played aritsts overall and for the current month and year."
   ]
  },
  {
   "cell_type": "code",
   "execution_count": null,
   "metadata": {},
   "outputs": [
    {
     "data": {
      "application/vnd.microsoft.datawrangler.viewer.v0+json": {
       "columns": [
        {
         "name": "index",
         "rawType": "int64",
         "type": "integer"
        },
        {
         "name": "('All data', 'artist')",
         "rawType": "object",
         "type": "string"
        },
        {
         "name": "('All data', 'play_count')",
         "rawType": "int64",
         "type": "integer"
        },
        {
         "name": "('Data for 04-2025', 'artist')",
         "rawType": "object",
         "type": "string"
        },
        {
         "name": "('Data for 04-2025', 'play_count')",
         "rawType": "int64",
         "type": "integer"
        }
       ],
       "conversionMethod": "pd.DataFrame",
       "ref": "1e618e29-4b5a-4713-a5c1-2cdfa812f724",
       "rows": [
        [
         "1",
         "Taylor Swift",
         "394",
         "Olivia Rodrigo",
         "34"
        ],
        [
         "2",
         "Sabrina Carpenter",
         "157",
         "boygenius",
         "26"
        ],
        [
         "3",
         "Dawid Podsiadło",
         "86",
         "Sabrina Carpenter",
         "18"
        ],
        [
         "4",
         "Paramore",
         "59",
         "Paramore",
         "15"
        ],
        [
         "5",
         "Olivia Rodrigo",
         "58",
         "Dawid Podsiadło",
         "12"
        ],
        [
         "6",
         "Taco Hemingway",
         "51",
         "Lucy Dacus",
         "6"
        ],
        [
         "7",
         "SZA",
         "47",
         "The Cranberries",
         "5"
        ],
        [
         "8",
         "boygenius",
         "43",
         "Tame Impala",
         "4"
        ],
        [
         "9",
         "Rina Sawayama",
         "42",
         "Chappell Roan",
         "3"
        ],
        [
         "10",
         "Chappell Roan",
         "42",
         "TV Girl",
         "3"
        ]
       ],
       "shape": {
        "columns": 4,
        "rows": 10
       }
      },
      "text/html": [
       "<div>\n",
       "<style scoped>\n",
       "    .dataframe tbody tr th:only-of-type {\n",
       "        vertical-align: middle;\n",
       "    }\n",
       "\n",
       "    .dataframe tbody tr th {\n",
       "        vertical-align: top;\n",
       "    }\n",
       "\n",
       "    .dataframe thead tr th {\n",
       "        text-align: left;\n",
       "    }\n",
       "</style>\n",
       "<table border=\"1\" class=\"dataframe\">\n",
       "  <thead>\n",
       "    <tr>\n",
       "      <th></th>\n",
       "      <th colspan=\"2\" halign=\"left\">All data</th>\n",
       "      <th colspan=\"2\" halign=\"left\">Data for 04-2025</th>\n",
       "    </tr>\n",
       "    <tr>\n",
       "      <th></th>\n",
       "      <th>artist</th>\n",
       "      <th>play_count</th>\n",
       "      <th>artist</th>\n",
       "      <th>play_count</th>\n",
       "    </tr>\n",
       "  </thead>\n",
       "  <tbody>\n",
       "    <tr>\n",
       "      <th>1</th>\n",
       "      <td>Taylor Swift</td>\n",
       "      <td>394</td>\n",
       "      <td>Olivia Rodrigo</td>\n",
       "      <td>34</td>\n",
       "    </tr>\n",
       "    <tr>\n",
       "      <th>2</th>\n",
       "      <td>Sabrina Carpenter</td>\n",
       "      <td>157</td>\n",
       "      <td>boygenius</td>\n",
       "      <td>26</td>\n",
       "    </tr>\n",
       "    <tr>\n",
       "      <th>3</th>\n",
       "      <td>Dawid Podsiadło</td>\n",
       "      <td>86</td>\n",
       "      <td>Sabrina Carpenter</td>\n",
       "      <td>18</td>\n",
       "    </tr>\n",
       "    <tr>\n",
       "      <th>4</th>\n",
       "      <td>Paramore</td>\n",
       "      <td>59</td>\n",
       "      <td>Paramore</td>\n",
       "      <td>15</td>\n",
       "    </tr>\n",
       "    <tr>\n",
       "      <th>5</th>\n",
       "      <td>Olivia Rodrigo</td>\n",
       "      <td>58</td>\n",
       "      <td>Dawid Podsiadło</td>\n",
       "      <td>12</td>\n",
       "    </tr>\n",
       "    <tr>\n",
       "      <th>6</th>\n",
       "      <td>Taco Hemingway</td>\n",
       "      <td>51</td>\n",
       "      <td>Lucy Dacus</td>\n",
       "      <td>6</td>\n",
       "    </tr>\n",
       "    <tr>\n",
       "      <th>7</th>\n",
       "      <td>SZA</td>\n",
       "      <td>47</td>\n",
       "      <td>The Cranberries</td>\n",
       "      <td>5</td>\n",
       "    </tr>\n",
       "    <tr>\n",
       "      <th>8</th>\n",
       "      <td>boygenius</td>\n",
       "      <td>43</td>\n",
       "      <td>Tame Impala</td>\n",
       "      <td>4</td>\n",
       "    </tr>\n",
       "    <tr>\n",
       "      <th>9</th>\n",
       "      <td>Rina Sawayama</td>\n",
       "      <td>42</td>\n",
       "      <td>Chappell Roan</td>\n",
       "      <td>3</td>\n",
       "    </tr>\n",
       "    <tr>\n",
       "      <th>10</th>\n",
       "      <td>Chappell Roan</td>\n",
       "      <td>42</td>\n",
       "      <td>TV Girl</td>\n",
       "      <td>3</td>\n",
       "    </tr>\n",
       "  </tbody>\n",
       "</table>\n",
       "</div>"
      ],
      "text/plain": [
       "             All data              Data for 04-2025           \n",
       "               artist play_count             artist play_count\n",
       "1        Taylor Swift        394     Olivia Rodrigo         34\n",
       "2   Sabrina Carpenter        157          boygenius         26\n",
       "3     Dawid Podsiadło         86  Sabrina Carpenter         18\n",
       "4            Paramore         59           Paramore         15\n",
       "5      Olivia Rodrigo         58    Dawid Podsiadło         12\n",
       "6      Taco Hemingway         51         Lucy Dacus          6\n",
       "7                 SZA         47    The Cranberries          5\n",
       "8           boygenius         43        Tame Impala          4\n",
       "9       Rina Sawayama         42      Chappell Roan          3\n",
       "10      Chappell Roan         42            TV Girl          3"
      ]
     },
     "execution_count": 2,
     "metadata": {},
     "output_type": "execute_result"
    }
   ],
   "source": [
    "top_num = 10  # How many top artists to diplay\n",
    "month = date.today().month  # Displays the data for this month (1-12)\n",
    "year = date.today().year  # Displays the data for this year\n",
    "label_month = f\"Data for {month:02}-{year}\"\n",
    "\n",
    "\n",
    "def get_top_artists(df, month=None, year=None, label=\"\"):\n",
    "    # If month and year are provided, filter the data\n",
    "    if month is not None and year is not None:\n",
    "        df = df[(df[\"date\"].dt.month == month) & (df[\"date\"].dt.year == year)]\n",
    "\n",
    "    # Count how many times the artists are appearing\n",
    "    df = df.value_counts(subset=[\"artist\"], ascending=False).reset_index(\n",
    "        name=\"play_count\")\n",
    "    df.index = df.index + 1  # Change the indexing to start at 1\n",
    "\n",
    "    df.columns = pd.MultiIndex.from_product([[label], df.columns])\n",
    "\n",
    "    return df\n",
    "\n",
    "\n",
    "top_artists = get_top_artists(data, label=\"All data\")\n",
    "top_artists_month = get_top_artists(data, month, year, label=label_month)\n",
    "\n",
    "merged = pd.concat([top_artists, top_artists_month], axis=1).fillna(0)\n",
    "merged[(label_month, \"play_count\")] = merged[(\n",
    "    label_month, \"play_count\")].astype(int)  # Convert to int\n",
    "merged.head(top_num)  # Display top played artists"
   ]
  },
  {
   "cell_type": "markdown",
   "metadata": {},
   "source": [
    "#### 10 top most played songs overall and for the current month and year."
   ]
  },
  {
   "cell_type": "code",
   "execution_count": null,
   "metadata": {},
   "outputs": [
    {
     "data": {
      "application/vnd.microsoft.datawrangler.viewer.v0+json": {
       "columns": [
        {
         "name": "index",
         "rawType": "int64",
         "type": "integer"
        },
        {
         "name": "('All data', 'title')",
         "rawType": "object",
         "type": "string"
        },
        {
         "name": "('All data', 'artist')",
         "rawType": "object",
         "type": "string"
        },
        {
         "name": "('All data', 'play_count')",
         "rawType": "int64",
         "type": "integer"
        },
        {
         "name": "('Data for 04-2025', 'title')",
         "rawType": "object",
         "type": "string"
        },
        {
         "name": "('Data for 04-2025', 'artist')",
         "rawType": "object",
         "type": "string"
        },
        {
         "name": "('Data for 04-2025', 'play_count')",
         "rawType": "int64",
         "type": "integer"
        }
       ],
       "conversionMethod": "pd.DataFrame",
       "ref": "5ff28c81-775a-4080-bc7b-b55ccbf93e67",
       "rows": [
        [
         "1",
         "15 Minutes",
         "Sabrina Carpenter",
         "11",
         "Black Hole",
         "boygenius",
         "4"
        ],
        [
         "2",
         "Juno",
         "Sabrina Carpenter",
         "11",
         "Not Strong Enough",
         "boygenius",
         "3"
        ],
        [
         "3",
         "Busy Woman",
         "Sabrina Carpenter",
         "9",
         "That's What You Get",
         "Paramore",
         "3"
        ],
        [
         "4",
         "My Kink Is Karma",
         "Chappell Roan",
         "8",
         "Feels Like Loneliness",
         "Sabrina Carpenter",
         "2"
        ],
        [
         "5",
         "The Smallest Man Who Ever Lived",
         "Taylor Swift",
         "8",
         "$20",
         "boygenius",
         "2"
        ],
        [
         "6",
         "That's What You Get",
         "Paramore",
         "8",
         "Skin",
         "Sabrina Carpenter",
         "2"
        ],
        [
         "7",
         "Don’t Smile",
         "Sabrina Carpenter",
         "8",
         "All I Wanted",
         "Paramore",
         "2"
        ],
        [
         "8",
         "Now That We Don't Talk (Taylor's Version) (From The Vault)",
         "Taylor Swift",
         "8",
         "ballad of a homeschooled girl",
         "Olivia Rodrigo",
         "2"
        ],
        [
         "9",
         "Suburban Legends (Taylor's Version) (From The Vault)",
         "Taylor Swift",
         "7",
         "favorite crime",
         "Olivia Rodrigo",
         "2"
        ],
        [
         "10",
         "Pastempomat",
         "Dawid Podsiadło",
         "7",
         "stranger",
         "Olivia Rodrigo",
         "2"
        ]
       ],
       "shape": {
        "columns": 6,
        "rows": 10
       }
      },
      "text/html": [
       "<div>\n",
       "<style scoped>\n",
       "    .dataframe tbody tr th:only-of-type {\n",
       "        vertical-align: middle;\n",
       "    }\n",
       "\n",
       "    .dataframe tbody tr th {\n",
       "        vertical-align: top;\n",
       "    }\n",
       "\n",
       "    .dataframe thead tr th {\n",
       "        text-align: left;\n",
       "    }\n",
       "</style>\n",
       "<table border=\"1\" class=\"dataframe\">\n",
       "  <thead>\n",
       "    <tr>\n",
       "      <th></th>\n",
       "      <th colspan=\"3\" halign=\"left\">All data</th>\n",
       "      <th colspan=\"3\" halign=\"left\">Data for 04-2025</th>\n",
       "    </tr>\n",
       "    <tr>\n",
       "      <th></th>\n",
       "      <th>title</th>\n",
       "      <th>artist</th>\n",
       "      <th>play_count</th>\n",
       "      <th>title</th>\n",
       "      <th>artist</th>\n",
       "      <th>play_count</th>\n",
       "    </tr>\n",
       "  </thead>\n",
       "  <tbody>\n",
       "    <tr>\n",
       "      <th>1</th>\n",
       "      <td>15 Minutes</td>\n",
       "      <td>Sabrina Carpenter</td>\n",
       "      <td>11</td>\n",
       "      <td>Black Hole</td>\n",
       "      <td>boygenius</td>\n",
       "      <td>4</td>\n",
       "    </tr>\n",
       "    <tr>\n",
       "      <th>2</th>\n",
       "      <td>Juno</td>\n",
       "      <td>Sabrina Carpenter</td>\n",
       "      <td>11</td>\n",
       "      <td>Not Strong Enough</td>\n",
       "      <td>boygenius</td>\n",
       "      <td>3</td>\n",
       "    </tr>\n",
       "    <tr>\n",
       "      <th>3</th>\n",
       "      <td>Busy Woman</td>\n",
       "      <td>Sabrina Carpenter</td>\n",
       "      <td>9</td>\n",
       "      <td>That's What You Get</td>\n",
       "      <td>Paramore</td>\n",
       "      <td>3</td>\n",
       "    </tr>\n",
       "    <tr>\n",
       "      <th>4</th>\n",
       "      <td>My Kink Is Karma</td>\n",
       "      <td>Chappell Roan</td>\n",
       "      <td>8</td>\n",
       "      <td>Feels Like Loneliness</td>\n",
       "      <td>Sabrina Carpenter</td>\n",
       "      <td>2</td>\n",
       "    </tr>\n",
       "    <tr>\n",
       "      <th>5</th>\n",
       "      <td>The Smallest Man Who Ever Lived</td>\n",
       "      <td>Taylor Swift</td>\n",
       "      <td>8</td>\n",
       "      <td>$20</td>\n",
       "      <td>boygenius</td>\n",
       "      <td>2</td>\n",
       "    </tr>\n",
       "    <tr>\n",
       "      <th>6</th>\n",
       "      <td>That's What You Get</td>\n",
       "      <td>Paramore</td>\n",
       "      <td>8</td>\n",
       "      <td>Skin</td>\n",
       "      <td>Sabrina Carpenter</td>\n",
       "      <td>2</td>\n",
       "    </tr>\n",
       "    <tr>\n",
       "      <th>7</th>\n",
       "      <td>Don’t Smile</td>\n",
       "      <td>Sabrina Carpenter</td>\n",
       "      <td>8</td>\n",
       "      <td>All I Wanted</td>\n",
       "      <td>Paramore</td>\n",
       "      <td>2</td>\n",
       "    </tr>\n",
       "    <tr>\n",
       "      <th>8</th>\n",
       "      <td>Now That We Don't Talk (Taylor's Version) (Fro...</td>\n",
       "      <td>Taylor Swift</td>\n",
       "      <td>8</td>\n",
       "      <td>ballad of a homeschooled girl</td>\n",
       "      <td>Olivia Rodrigo</td>\n",
       "      <td>2</td>\n",
       "    </tr>\n",
       "    <tr>\n",
       "      <th>9</th>\n",
       "      <td>Suburban Legends (Taylor's Version) (From The ...</td>\n",
       "      <td>Taylor Swift</td>\n",
       "      <td>7</td>\n",
       "      <td>favorite crime</td>\n",
       "      <td>Olivia Rodrigo</td>\n",
       "      <td>2</td>\n",
       "    </tr>\n",
       "    <tr>\n",
       "      <th>10</th>\n",
       "      <td>Pastempomat</td>\n",
       "      <td>Dawid Podsiadło</td>\n",
       "      <td>7</td>\n",
       "      <td>stranger</td>\n",
       "      <td>Olivia Rodrigo</td>\n",
       "      <td>2</td>\n",
       "    </tr>\n",
       "  </tbody>\n",
       "</table>\n",
       "</div>"
      ],
      "text/plain": [
       "                                             All data                     \\\n",
       "                                                title             artist   \n",
       "1                                          15 Minutes  Sabrina Carpenter   \n",
       "2                                                Juno  Sabrina Carpenter   \n",
       "3                                          Busy Woman  Sabrina Carpenter   \n",
       "4                                    My Kink Is Karma      Chappell Roan   \n",
       "5                     The Smallest Man Who Ever Lived       Taylor Swift   \n",
       "6                                 That's What You Get           Paramore   \n",
       "7                                         Don’t Smile  Sabrina Carpenter   \n",
       "8   Now That We Don't Talk (Taylor's Version) (Fro...       Taylor Swift   \n",
       "9   Suburban Legends (Taylor's Version) (From The ...       Taylor Swift   \n",
       "10                                        Pastempomat    Dawid Podsiadło   \n",
       "\n",
       "                            Data for 04-2025                                \n",
       "   play_count                          title             artist play_count  \n",
       "1          11                     Black Hole          boygenius          4  \n",
       "2          11              Not Strong Enough          boygenius          3  \n",
       "3           9            That's What You Get           Paramore          3  \n",
       "4           8          Feels Like Loneliness  Sabrina Carpenter          2  \n",
       "5           8                            $20          boygenius          2  \n",
       "6           8                           Skin  Sabrina Carpenter          2  \n",
       "7           8                   All I Wanted           Paramore          2  \n",
       "8           8  ballad of a homeschooled girl     Olivia Rodrigo          2  \n",
       "9           7                 favorite crime     Olivia Rodrigo          2  \n",
       "10          7                       stranger     Olivia Rodrigo          2  "
      ]
     },
     "execution_count": 3,
     "metadata": {},
     "output_type": "execute_result"
    }
   ],
   "source": [
    "top_num = 10  # How many top songs to diplay\n",
    "month = date.today().month  # Displays the data for this month (1-12)\n",
    "year = date.today().year  # Displays the data for this year\n",
    "label_month = f\"Data for {month:02}-{year}\"\n",
    "\n",
    "\n",
    "def get_top_songs(df, month=None, year=None, label=\"\"):\n",
    "    # If month and year are provided, filter the data\n",
    "    if month is not None and year is not None:\n",
    "        df = df[(df[\"date\"].dt.month == month) & (df[\"date\"].dt.year == year)]\n",
    "\n",
    "    # Count how many times the artists are appearing\n",
    "    df = df.value_counts(subset=[\"title\", \"artist\"],\n",
    "                         ascending=False).reset_index(name=\"play_count\")\n",
    "    df.index = df.index + 1  # Change the indexing to start at 1\n",
    "\n",
    "    df.columns = pd.MultiIndex.from_product([[label], df.columns])\n",
    "\n",
    "    return df\n",
    "\n",
    "\n",
    "top_songs = get_top_songs(data, label=\"All data\")\n",
    "top_songs_month = get_top_songs(data, month, year, label=label_month)\n",
    "\n",
    "merged = pd.concat([top_songs, top_songs_month], axis=1).fillna(0)\n",
    "merged[(label_month, \"play_count\")] = merged[(\n",
    "    label_month, \"play_count\")].astype(int)  # Convert to int\n",
    "merged.head(top_num)  # Display top played songs"
   ]
  }
 ],
 "metadata": {
  "kernelspec": {
   "display_name": "Python 3",
   "language": "python",
   "name": "python3"
  },
  "language_info": {
   "codemirror_mode": {
    "name": "ipython",
    "version": 3
   },
   "file_extension": ".py",
   "mimetype": "text/x-python",
   "name": "python",
   "nbconvert_exporter": "python",
   "pygments_lexer": "ipython3",
   "version": "3.10.12"
  }
 },
 "nbformat": 4,
 "nbformat_minor": 2
}
