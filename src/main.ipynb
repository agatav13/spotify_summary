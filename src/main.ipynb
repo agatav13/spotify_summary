{
 "cells": [
  {
   "cell_type": "code",
   "execution_count": null,
   "metadata": {},
   "outputs": [],
   "source": [
    "import pandas as pd\n",
    "import matplotlib.pyplot as plt\n",
    "import seaborn as sns\n",
    "from datetime import date\n",
    "\n",
    "path = \"../data/data.csv\"\n",
    "data = pd.read_csv(path)\n",
    "data[\"date\"] = pd.to_datetime(data[\"date\"])  # Convert column to datetime"
   ]
  },
  {
   "cell_type": "code",
   "execution_count": 34,
   "metadata": {},
   "outputs": [
    {
     "data": {
      "application/vnd.microsoft.datawrangler.viewer.v0+json": {
       "columns": [
        {
         "name": "index",
         "rawType": "int64",
         "type": "integer"
        },
        {
         "name": "artist",
         "rawType": "object",
         "type": "string"
        },
        {
         "name": "play_count",
         "rawType": "int64",
         "type": "integer"
        }
       ],
       "conversionMethod": "pd.DataFrame",
       "ref": "72210f48-0f62-42d4-8b22-adfda437c96d",
       "rows": [
        [
         "1",
         "Taylor Swift",
         "352"
        ],
        [
         "2",
         "Sabrina Carpenter",
         "107"
        ],
        [
         "3",
         "Dawid Podsiadło",
         "74"
        ],
        [
         "4",
         "Taco Hemingway",
         "50"
        ],
        [
         "5",
         "SZA",
         "46"
        ],
        [
         "6",
         "Paramore",
         "44"
        ],
        [
         "7",
         "Rina Sawayama",
         "42"
        ],
        [
         "8",
         "Drum & Lace",
         "34"
        ],
        [
         "9",
         "Lana Del Rey",
         "31"
        ],
        [
         "10",
         "Chappell Roan",
         "30"
        ]
       ],
       "shape": {
        "columns": 2,
        "rows": 10
       }
      },
      "text/html": [
       "<div>\n",
       "<style scoped>\n",
       "    .dataframe tbody tr th:only-of-type {\n",
       "        vertical-align: middle;\n",
       "    }\n",
       "\n",
       "    .dataframe tbody tr th {\n",
       "        vertical-align: top;\n",
       "    }\n",
       "\n",
       "    .dataframe thead th {\n",
       "        text-align: right;\n",
       "    }\n",
       "</style>\n",
       "<table border=\"1\" class=\"dataframe\">\n",
       "  <thead>\n",
       "    <tr style=\"text-align: right;\">\n",
       "      <th></th>\n",
       "      <th>artist</th>\n",
       "      <th>play_count</th>\n",
       "    </tr>\n",
       "  </thead>\n",
       "  <tbody>\n",
       "    <tr>\n",
       "      <th>1</th>\n",
       "      <td>Taylor Swift</td>\n",
       "      <td>352</td>\n",
       "    </tr>\n",
       "    <tr>\n",
       "      <th>2</th>\n",
       "      <td>Sabrina Carpenter</td>\n",
       "      <td>107</td>\n",
       "    </tr>\n",
       "    <tr>\n",
       "      <th>3</th>\n",
       "      <td>Dawid Podsiadło</td>\n",
       "      <td>74</td>\n",
       "    </tr>\n",
       "    <tr>\n",
       "      <th>4</th>\n",
       "      <td>Taco Hemingway</td>\n",
       "      <td>50</td>\n",
       "    </tr>\n",
       "    <tr>\n",
       "      <th>5</th>\n",
       "      <td>SZA</td>\n",
       "      <td>46</td>\n",
       "    </tr>\n",
       "    <tr>\n",
       "      <th>6</th>\n",
       "      <td>Paramore</td>\n",
       "      <td>44</td>\n",
       "    </tr>\n",
       "    <tr>\n",
       "      <th>7</th>\n",
       "      <td>Rina Sawayama</td>\n",
       "      <td>42</td>\n",
       "    </tr>\n",
       "    <tr>\n",
       "      <th>8</th>\n",
       "      <td>Drum &amp; Lace</td>\n",
       "      <td>34</td>\n",
       "    </tr>\n",
       "    <tr>\n",
       "      <th>9</th>\n",
       "      <td>Lana Del Rey</td>\n",
       "      <td>31</td>\n",
       "    </tr>\n",
       "    <tr>\n",
       "      <th>10</th>\n",
       "      <td>Chappell Roan</td>\n",
       "      <td>30</td>\n",
       "    </tr>\n",
       "  </tbody>\n",
       "</table>\n",
       "</div>"
      ],
      "text/plain": [
       "               artist  play_count\n",
       "1        Taylor Swift         352\n",
       "2   Sabrina Carpenter         107\n",
       "3     Dawid Podsiadło          74\n",
       "4      Taco Hemingway          50\n",
       "5                 SZA          46\n",
       "6            Paramore          44\n",
       "7       Rina Sawayama          42\n",
       "8         Drum & Lace          34\n",
       "9        Lana Del Rey          31\n",
       "10      Chappell Roan          30"
      ]
     },
     "execution_count": 34,
     "metadata": {},
     "output_type": "execute_result"
    }
   ],
   "source": [
    "top_num = 10  # How many top artists to diplay\n",
    "\n",
    "# Count how many times the artists are appearing\n",
    "top_artists = data.value_counts(subset=[\"artist\"], ascending=False).reset_index(name=\"play_count\")\n",
    "top_artists.index = top_artists.index + 1  # Change the indexing to start at 1\n",
    "\n",
    "# Display top played artists\n",
    "top_artists.head(top_num)"
   ]
  },
  {
   "cell_type": "code",
   "execution_count": 33,
   "metadata": {},
   "outputs": [
    {
     "data": {
      "application/vnd.microsoft.datawrangler.viewer.v0+json": {
       "columns": [
        {
         "name": "index",
         "rawType": "int64",
         "type": "integer"
        },
        {
         "name": "title",
         "rawType": "object",
         "type": "string"
        },
        {
         "name": "artist",
         "rawType": "object",
         "type": "string"
        },
        {
         "name": "play_count",
         "rawType": "int64",
         "type": "integer"
        }
       ],
       "conversionMethod": "pd.DataFrame",
       "ref": "d663fc1c-13dc-4bee-9319-3048ed83d98b",
       "rows": [
        [
         "1",
         "Juno",
         "Sabrina Carpenter",
         "9"
        ],
        [
         "2",
         "15 Minutes",
         "Sabrina Carpenter",
         "9"
        ],
        [
         "3",
         "Now That We Don't Talk (Taylor's Version) (From The Vault)",
         "Taylor Swift",
         "8"
        ],
        [
         "4",
         "Busy Woman",
         "Sabrina Carpenter",
         "7"
        ],
        [
         "5",
         "Don’t Smile",
         "Sabrina Carpenter",
         "7"
        ],
        [
         "6",
         "My Kink Is Karma",
         "Chappell Roan",
         "7"
        ],
        [
         "7",
         "Suburban Legends (Taylor's Version) (From The Vault)",
         "Taylor Swift",
         "7"
        ],
        [
         "8",
         "The Smallest Man Who Ever Lived",
         "Taylor Swift",
         "6"
        ],
        [
         "9",
         "Pastempomat",
         "Dawid Podsiadło",
         "6"
        ],
        [
         "10",
         "The Great War",
         "Taylor Swift",
         "6"
        ]
       ],
       "shape": {
        "columns": 3,
        "rows": 10
       }
      },
      "text/html": [
       "<div>\n",
       "<style scoped>\n",
       "    .dataframe tbody tr th:only-of-type {\n",
       "        vertical-align: middle;\n",
       "    }\n",
       "\n",
       "    .dataframe tbody tr th {\n",
       "        vertical-align: top;\n",
       "    }\n",
       "\n",
       "    .dataframe thead th {\n",
       "        text-align: right;\n",
       "    }\n",
       "</style>\n",
       "<table border=\"1\" class=\"dataframe\">\n",
       "  <thead>\n",
       "    <tr style=\"text-align: right;\">\n",
       "      <th></th>\n",
       "      <th>title</th>\n",
       "      <th>artist</th>\n",
       "      <th>play_count</th>\n",
       "    </tr>\n",
       "  </thead>\n",
       "  <tbody>\n",
       "    <tr>\n",
       "      <th>1</th>\n",
       "      <td>Juno</td>\n",
       "      <td>Sabrina Carpenter</td>\n",
       "      <td>9</td>\n",
       "    </tr>\n",
       "    <tr>\n",
       "      <th>2</th>\n",
       "      <td>15 Minutes</td>\n",
       "      <td>Sabrina Carpenter</td>\n",
       "      <td>9</td>\n",
       "    </tr>\n",
       "    <tr>\n",
       "      <th>3</th>\n",
       "      <td>Now That We Don't Talk (Taylor's Version) (Fro...</td>\n",
       "      <td>Taylor Swift</td>\n",
       "      <td>8</td>\n",
       "    </tr>\n",
       "    <tr>\n",
       "      <th>4</th>\n",
       "      <td>Busy Woman</td>\n",
       "      <td>Sabrina Carpenter</td>\n",
       "      <td>7</td>\n",
       "    </tr>\n",
       "    <tr>\n",
       "      <th>5</th>\n",
       "      <td>Don’t Smile</td>\n",
       "      <td>Sabrina Carpenter</td>\n",
       "      <td>7</td>\n",
       "    </tr>\n",
       "    <tr>\n",
       "      <th>6</th>\n",
       "      <td>My Kink Is Karma</td>\n",
       "      <td>Chappell Roan</td>\n",
       "      <td>7</td>\n",
       "    </tr>\n",
       "    <tr>\n",
       "      <th>7</th>\n",
       "      <td>Suburban Legends (Taylor's Version) (From The ...</td>\n",
       "      <td>Taylor Swift</td>\n",
       "      <td>7</td>\n",
       "    </tr>\n",
       "    <tr>\n",
       "      <th>8</th>\n",
       "      <td>The Smallest Man Who Ever Lived</td>\n",
       "      <td>Taylor Swift</td>\n",
       "      <td>6</td>\n",
       "    </tr>\n",
       "    <tr>\n",
       "      <th>9</th>\n",
       "      <td>Pastempomat</td>\n",
       "      <td>Dawid Podsiadło</td>\n",
       "      <td>6</td>\n",
       "    </tr>\n",
       "    <tr>\n",
       "      <th>10</th>\n",
       "      <td>The Great War</td>\n",
       "      <td>Taylor Swift</td>\n",
       "      <td>6</td>\n",
       "    </tr>\n",
       "  </tbody>\n",
       "</table>\n",
       "</div>"
      ],
      "text/plain": [
       "                                                title             artist  \\\n",
       "1                                                Juno  Sabrina Carpenter   \n",
       "2                                          15 Minutes  Sabrina Carpenter   \n",
       "3   Now That We Don't Talk (Taylor's Version) (Fro...       Taylor Swift   \n",
       "4                                          Busy Woman  Sabrina Carpenter   \n",
       "5                                         Don’t Smile  Sabrina Carpenter   \n",
       "6                                    My Kink Is Karma      Chappell Roan   \n",
       "7   Suburban Legends (Taylor's Version) (From The ...       Taylor Swift   \n",
       "8                     The Smallest Man Who Ever Lived       Taylor Swift   \n",
       "9                                         Pastempomat    Dawid Podsiadło   \n",
       "10                                      The Great War       Taylor Swift   \n",
       "\n",
       "    play_count  \n",
       "1            9  \n",
       "2            9  \n",
       "3            8  \n",
       "4            7  \n",
       "5            7  \n",
       "6            7  \n",
       "7            7  \n",
       "8            6  \n",
       "9            6  \n",
       "10           6  "
      ]
     },
     "execution_count": 33,
     "metadata": {},
     "output_type": "execute_result"
    }
   ],
   "source": [
    "top_num = 10  # How many top songs to diplay\n",
    "\n",
    "# Count how many times the songs are appearing\n",
    "top_songs = data.value_counts(subset=[\"title\", \"artist\"], ascending=False).reset_index(name=\"play_count\")\n",
    "top_songs.index = top_songs.index + 1  # Change the indexing to start at 1\n",
    "\n",
    "# Display top played songs\n",
    "top_songs.head(top_num)"
   ]
  }
 ],
 "metadata": {
  "kernelspec": {
   "display_name": "Python 3",
   "language": "python",
   "name": "python3"
  },
  "language_info": {
   "codemirror_mode": {
    "name": "ipython",
    "version": 3
   },
   "file_extension": ".py",
   "mimetype": "text/x-python",
   "name": "python",
   "nbconvert_exporter": "python",
   "pygments_lexer": "ipython3",
   "version": "3.10.12"
  }
 },
 "nbformat": 4,
 "nbformat_minor": 2
}
